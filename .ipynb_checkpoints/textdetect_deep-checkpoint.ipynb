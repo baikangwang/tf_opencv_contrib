{
 "cells": [
  {
   "cell_type": "code",
   "execution_count": 208,
   "metadata": {},
   "outputs": [],
   "source": [
    "import sys\n",
    "import os\n",
    "import cv2\n",
    "import numpy as np\n",
    "import shutil\n",
    "from IPython.display import Image as img_display"
   ]
  },
  {
   "cell_type": "code",
   "execution_count": 209,
   "metadata": {},
   "outputs": [],
   "source": [
    "pathname='./resources' #os.path.dirname(sys.argv[0])\n",
    "file=os.path.join(pathname,'12.png') "
   ]
  },
  {
   "cell_type": "code",
   "execution_count": 210,
   "metadata": {},
   "outputs": [],
   "source": [
    "def apply_blur(img):\n",
    "    localpath=os.path.join(pathname,\"blur.png\")\n",
    "    img=cv2.GaussianBlur(img,(3,3),0)\n",
    "    cv2.imwrite(localpath,img)\n",
    "    return (img,localpath)"
   ]
  },
  {
   "cell_type": "code",
   "execution_count": 211,
   "metadata": {},
   "outputs": [],
   "source": [
    "def invert_color(img):\n",
    "    localpath=os.path.join(pathname,\"bitwise.png\")\n",
    "    img=cv2.bitwise_not(img)\n",
    "    cv2.imwrite(localpath,img)\n",
    "    return (img,localpath)"
   ]
  },
  {
   "cell_type": "code",
   "execution_count": 212,
   "metadata": {},
   "outputs": [],
   "source": [
    "def clean_noise(img):\n",
    "    localpath=os.path.join(pathname,\"removed_noise.png\")\n",
    "    kernel =np.ones((1,1),np.uint8)\n",
    "    img=cv2.dilate(img,kernel,iterations=1)\n",
    "    img=cv2.erode(img,kernel,iterations=1)\n",
    "    cv2.imwrite(localpath,img)\n",
    "    return (img,localpath)"
   ]
  },
  {
   "cell_type": "code",
   "execution_count": 213,
   "metadata": {},
   "outputs": [],
   "source": [
    "def apply_bightness(img):\n",
    "    localpath=os.path.join(pathname,\"brightness.png\")\n",
    "    for x in range(0, len(img)):\n",
    "        for y in range(0, len(img[x])):\n",
    "            if img[x,y]<255:\n",
    "                img[x, y]=0\n",
    "    cv2.imwrite(localpath,img)\n",
    "    return (img, localpath)"
   ]
  },
  {
   "cell_type": "code",
   "execution_count": 214,
   "metadata": {},
   "outputs": [],
   "source": [
    "def apply_threshold(img): \n",
    "    localpath=os.path.join(pathname,\"thres.png\")\n",
    "    img = cv2.adaptiveThreshold(img,255,cv2.ADAPTIVE_THRESH_GAUSSIAN_C,cv2.THRESH_BINARY,3,1)\n",
    "    ret,thresh = cv2.threshold(img,127,255,0)\n",
    "    cv2.imwrite(localpath,img)\n",
    "    return (img,localpath)"
   ]
  },
  {
   "cell_type": "code",
   "execution_count": 215,
   "metadata": {},
   "outputs": [],
   "source": [
    "def run_mser(img,org_img):\n",
    "    localpath=os.path.join(pathname,\"linesImg.png\")\n",
    "    # mser = cv2.MSER_create(1,25,200)\n",
    "    mser = cv2.MSER_create(1,20,80,1)\n",
    "    regions,_ = mser.detectRegions(img)\n",
    "    rects=[cv2.boundingRect(p.reshape(-1,1,2)) for p in regions]\n",
    "    linesImg=org_img.copy()\n",
    "    for i,rect in enumerate(rects):\n",
    "        cv2.rectangle(linesImg,rect[0:2],(rect[0]+rect[2],rect[1]+rect[3]),(0,255,0),1)\n",
    "    cv2.imwrite(localpath,linesImg)\n",
    "    return (rects,localpath)"
   ]
  },
  {
   "cell_type": "code",
   "execution_count": 216,
   "metadata": {},
   "outputs": [],
   "source": [
    "def draw_black_block(img,rects):\n",
    "    localpath=os.path.join(pathname,\"filled.png\")\n",
    "    for i,rect in enumerate(rects):\n",
    "        width=rect[2]\n",
    "        height=rect[3]\n",
    "        if width>1 and height>1 and (width/height<7.0) and (height/width<7.0):\n",
    "            #print(str(width)+\" \"+str(height))\n",
    "            #cv2.rectangle(gray,(0,0),(10,20),(0,255,0),2)\n",
    "            offset=0\n",
    "            (top,left)=(rect[0]-offset,rect[1]-offset)\n",
    "            cv2.rectangle(img,(top,left),(rect[0]+rect[2]+2*offset,rect[1]+rect[3]+2*offset),(0,0,0),-1)\n",
    "    \n",
    "    cv2.imwrite(localpath,img)\n",
    "    return (img,localpath)"
   ]
  },
  {
   "cell_type": "code",
   "execution_count": 217,
   "metadata": {
    "collapsed": true
   },
   "outputs": [],
   "source": [
    "def detect_chars(img,org_img):\n",
    "    localpath=os.path.join(pathname,\"result.png\")\n",
    "    # detect black blocks\n",
    "    bgr=cv2.cvtColor(img,cv2.COLOR_GRAY2RGB)\n",
    "    img=cv2.cvtColor(bgr, cv2.COLOR_BGR2HSV)\n",
    "    # colours=['yellow','orange','red','green','black','white']\n",
    "    # lowers=[[30,255,255],[15,255,255],[6,255,255],[0,0,0],[0, 0, 205]]\n",
    "    # uppers=[[20,100,100],[5,100,100],[0,100,100],[180, 10, 50],[180, 10, 255]]\n",
    "\n",
    "    lower=np.array([0, 0, 0],np.uint8)\n",
    "    upper=np.array([180, 10, 50],np.uint8)\n",
    "    separated=cv2.inRange(img,lower,upper)\n",
    "\n",
    "    #this bit draws a red rectangle around the detected region \n",
    "    im2,contours,hierarchy=cv2.findContours(separated,cv2.RETR_LIST,cv2.CHAIN_APPROX_SIMPLE) \n",
    "    max_area = 0 \n",
    "    largest_contour = None\n",
    "    outImg=org_img.copy()\n",
    "    # the total number of corp chars\n",
    "    total_corps=0\n",
    "    # the number of corp single chars \n",
    "    single_corps=0\n",
    "    # the output path of corp chars\n",
    "    corp_chars_path=os.path.join(pathname,\"corp_chars\")\n",
    "    # the output path of single chars\n",
    "    single_path=os.path.join(corp_chars_path,\"singles\")\n",
    "    # the scalar of single char\n",
    "    single_scalar=1.8\n",
    "    if not os.path.exists(corp_chars_path):\n",
    "        os.makedirs(corp_chars_path)\n",
    "    else:\n",
    "        shutil.rmtree(corp_chars_path)\n",
    "    if not os.path.exists(single_path):\n",
    "        os.makedirs(single_path)\n",
    "    else:\n",
    "        shutil.rmtree(single_path)\n",
    "\n",
    "    for idx, contour in enumerate(contours): \n",
    "        area = cv2.contourArea(contour) \n",
    "        # if area > max_area: \n",
    "        max_area = area \n",
    "        largest_contour=contour \n",
    "        if largest_contour is not None:\n",
    "            moment = cv2.moments(largest_contour) \n",
    "            rect = cv2.boundingRect(largest_contour)\n",
    "            (height,width)=(rect[2],rect[3])\n",
    "            area=cv2.contourArea(largest_contour)\n",
    "            if (height>1.0 and width>1.0 and ((width/height)<6) and ((height/width)<6) and area>100):\n",
    "                # print(cv2.contourArea(largest_contour))\n",
    "                total_corps+=1\n",
    "                x,y,w,h = rect\n",
    "                offset=0\n",
    "                cropped = outImg[y:y+h,x:x+w]\n",
    "                outfile=\"\"\n",
    "                if (width/height>=1.0 and width/height<=single_scalar) or (height/width>=1.0 and height/width<=single_scalar):\n",
    "                    single_corps+=1\n",
    "                    outfile=os.path.join(single_path, \"{0}_{1}_{2}_{3}_{4}.png\".format(idx,x,y,w,h))\n",
    "                else:\n",
    "                    outfile=os.path.join(corp_chars_path, \"{0}_{1}_{2}_{3}_{4}.png\".format(idx,x,y,w,h))\n",
    "                cv2.imwrite(outfile,cropped)\n",
    "                cv2.rectangle(org_img,(x-offset,y-offset),(x+w+2*offset,y+h+2*offset),(0,255,0),1)\n",
    "\n",
    "    print(\"total {0} chars, {1} single chars, output rate {2:0.3f}%\".format(total_corps,single_corps,single_corps/total_corps*100))\n",
    "    cv2.imwrite(localpath,org_img)\n",
    "    return localpath"
   ]
  },
  {
   "cell_type": "code",
   "execution_count": 218,
   "metadata": {},
   "outputs": [
    {
     "data": {
      "image/png": "[encoded data removed]",
      "text/plain": [
       "<IPython.core.display.Image object>"
      ]
     },
     "execution_count": 218,
     "metadata": {},
     "output_type": "execute_result"
    }
   ],
   "source": [
    "img = cv2.imread(file)#(str(sys.argv[1]))\n",
    "gray= cv2.imread(file,0)#(str(sys.argv[1]),0)\n",
    "# display in IPython\n",
    "img_display(filename=file)"
   ]
  },
  {
   "cell_type": "code",
   "execution_count": 219,
   "metadata": {},
   "outputs": [],
   "source": [
    "# apply blur\n",
    "gray, filename=apply_blur(gray)\n",
    "img_display(filename=filename)"
   ]
  },
  {
   "cell_type": "code",
   "execution_count": 220,
   "metadata": {},
   "outputs": [],
   "source": [
    "# invert color\n",
    "# gray,filename=invert_color(gray)\n",
    "# img_display(filename=filename)"
   ]
  },
  {
   "cell_type": "code",
   "execution_count": 221,
   "metadata": {},
   "outputs": [],
   "source": [
    "# Apply dilation and erosion to remove some noise\n",
    "gray,filename=clean_noise(gray)\n",
    "img_display(filename=filename)"
   ]
  },
  {
   "cell_type": "code",
   "execution_count": 222,
   "metadata": {},
   "outputs": [],
   "source": [
    "# bightness\n",
    "# gray,filename=apply_bightness(gray)\n",
    "# img_display(filename=filename)"
   ]
  },
  {
   "cell_type": "code",
   "execution_count": 223,
   "metadata": {},
   "outputs": [],
   "source": [
    "# Apply threshold to get image with only black and white\n",
    "# gray,filename = apply_threshold(gray)\n",
    "# img_display(filename=filename)"
   ]
  },
  {
   "cell_type": "code",
   "execution_count": 224,
   "metadata": {},
   "outputs": [
    {
     "data": {
      "image/png": "[encoded data removed]",
      "text/plain": [
       "<IPython.core.display.Image object>"
      ]
     },
     "execution_count": 224,
     "metadata": {},
     "output_type": "execute_result"
    }
   ],
   "source": [
    "# MSER to detect regions\n",
    "rects,filename=run_mser(gray,img)\n",
    "img_display(filename=filename)"
   ]
  },
  {
   "cell_type": "code",
   "execution_count": 225,
   "metadata": {},
   "outputs": [
    {
     "data": {
      "image/png": "[encoded data removed]",
      "text/plain": [
       "<IPython.core.display.Image object>"
      ]
     },
     "execution_count": 225,
     "metadata": {},
     "output_type": "execute_result"
    }
   ],
   "source": [
    "# draw rectangles\n",
    "gray,filename=draw_black_block(gray,rects)\n",
    "img_display(filename=filename)"
   ]
  },
  {
   "cell_type": "code",
   "execution_count": 226,
   "metadata": {
    "scrolled": true
   },
   "outputs": [
    {
     "name": "stdout",
     "output_type": "stream",
     "text": [
      "total 1 chars, 1 single chars, output rate 100.000%\n"
     ]
    },
    {
     "data": {
      "image/png": "[encoded data removed]",
      "text/plain": [
       "<IPython.core.display.Image object>"
      ]
     },
     "execution_count": 226,
     "metadata": {},
     "output_type": "execute_result"
    }
   ],
   "source": [
    "# detect black blocks\n",
    "filename=detect_chars(gray,img)\n",
    "img_display(filename=filename)"
   ]
  },
  {
   "cell_type": "code",
   "execution_count": null,
   "metadata": {},
   "outputs": [],
   "source": []
  }
 ],
 "metadata": {
  "kernelspec": {
   "display_name": "Python 3",
   "language": "python",
   "name": "python3"
  },
  "language_info": {
   "codemirror_mode": {
    "name": "ipython",
    "version": 3
   },
   "file_extension": ".py",
   "mimetype": "text/x-python",
   "name": "python",
   "nbconvert_exporter": "python",
   "pygments_lexer": "ipython3",
   "version": "3.5.2"
  }
 },
 "nbformat": 4,
 "nbformat_minor": 2
}
