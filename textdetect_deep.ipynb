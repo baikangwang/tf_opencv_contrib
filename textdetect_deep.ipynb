{
 "cells": [
  {
   "cell_type": "code",
   "execution_count": 706,
   "metadata": {
    "ExecuteTime": {
     "end_time": "2017-10-25T08:51:43.072557Z",
     "start_time": "2017-10-25T08:51:43.067872Z"
    }
   },
   "outputs": [],
   "source": [
    "import sys\n",
    "import os\n",
    "import cv2\n",
    "import numpy as np\n",
    "import shutil\n",
    "from IPython.display import Image as img_display"
   ]
  },
  {
   "cell_type": "code",
   "execution_count": 707,
   "metadata": {
    "ExecuteTime": {
     "end_time": "2017-10-25T08:51:43.077693Z",
     "start_time": "2017-10-25T08:51:43.073656Z"
    }
   },
   "outputs": [],
   "source": [
    "pathname='./resources' #os.path.dirname(sys.argv[0])\n",
    "file=os.path.join(pathname,'12.png') # deep1.png"
   ]
  },
  {
   "cell_type": "code",
   "execution_count": 708,
   "metadata": {
    "ExecuteTime": {
     "end_time": "2017-10-25T08:51:43.091672Z",
     "start_time": "2017-10-25T08:51:43.085896Z"
    }
   },
   "outputs": [],
   "source": [
    "def apply_blur(img,ksize=(3,3),sigmaX=0,sigmaY=0,borderType=cv2.BORDER_DEFAULT):\n",
    "    \"\"\"\n",
    "    Args:\n",
    "        img:       input image matrix\n",
    "        ksize:     Gaussian kernel size. ksize.width and ksize.height can differ but they both must be positive and odd. \n",
    "                   Or, they can be zero's and then they are computed from sigma.\n",
    "        sigmaX:    Gaussian kernel standard deviation in X direction\n",
    "        sigmaY:    Gaussian kernel standard deviation in Y direction; \n",
    "                   if sigmaY is zero, it is set to be equal to sigmaX, if both sigmas are zeros, they are computed from ksize.\n",
    "                   width and ksize.height, respectively (see cv::getGaussianKernel for details); to fully control the result \n",
    "                   regardless of possible future modifications of all this semantics, it is recommended to specify all of ksize, \n",
    "                   sigmaX, and sigmaY.\n",
    "        borderType:pixel extrapolation method, see cv::BorderTypes\n",
    "    \"\"\"\n",
    "    localpath=os.path.join(pathname,\"blur.png\")\n",
    "    img=cv2.GaussianBlur(img,ksize,sigmaX,sigmaY,borderType) # cv2.GaussianBlur(img,(3,3),0)\n",
    "    cv2.imwrite(localpath,img)\n",
    "    return (img,localpath)"
   ]
  },
  {
   "cell_type": "code",
   "execution_count": 709,
   "metadata": {
    "ExecuteTime": {
     "end_time": "2017-10-25T08:51:43.097316Z",
     "start_time": "2017-10-25T08:51:43.094222Z"
    }
   },
   "outputs": [],
   "source": [
    "def invert_color(img):\n",
    "    localpath=os.path.join(pathname,\"bitwise.png\")\n",
    "    img=cv2.bitwise_not(img)\n",
    "    cv2.imwrite(localpath,img)\n",
    "    return (img,localpath)"
   ]
  },
  {
   "cell_type": "code",
   "execution_count": 710,
   "metadata": {
    "ExecuteTime": {
     "end_time": "2017-10-25T08:51:43.117007Z",
     "start_time": "2017-10-25T08:51:43.109664Z"
    }
   },
   "outputs": [],
   "source": [
    "def clean_noise(img,ksize=(1,1),iterations=1):\n",
    "    \"\"\"\n",
    "    Args:\n",
    "        ksize: kernel size\n",
    "        iterations:\n",
    "    \"\"\"\n",
    "    localpath=os.path.join(pathname,\"removed_noise.png\")\n",
    "    kernel = np.ones(ksize,np.uint8)\n",
    "    img=cv2.dilate(img,kernel,iterations=iterations)\n",
    "    img=cv2.erode(img,kernel,iterations=iterations)\n",
    "    cv2.imwrite(localpath,img)\n",
    "    return (img,localpath)"
   ]
  },
  {
   "cell_type": "code",
   "execution_count": 711,
   "metadata": {
    "ExecuteTime": {
     "end_time": "2017-10-25T08:51:43.128153Z",
     "start_time": "2017-10-25T08:51:43.121447Z"
    }
   },
   "outputs": [],
   "source": [
    "def apply_bightness(img):\n",
    "    localpath=os.path.join(pathname,\"brightness.png\")\n",
    "    for x in range(0, len(img)):\n",
    "        for y in range(0, len(img[x])):\n",
    "            if img[x,y]<255:\n",
    "                img[x, y]=0\n",
    "    cv2.imwrite(localpath,img)\n",
    "    return (img, localpath)"
   ]
  },
  {
   "cell_type": "code",
   "execution_count": 712,
   "metadata": {
    "ExecuteTime": {
     "end_time": "2017-10-25T08:51:43.141191Z",
     "start_time": "2017-10-25T08:51:43.135071Z"
    }
   },
   "outputs": [],
   "source": [
    "def apply_threshold(img): \n",
    "    localpath=os.path.join(pathname,\"thres.png\")\n",
    "    img = cv2.adaptiveThreshold(img,255,cv2.ADAPTIVE_THRESH_GAUSSIAN_C,cv2.THRESH_BINARY,3,1)\n",
    "    ret,thresh = cv2.threshold(img,127,255,0)\n",
    "    cv2.imwrite(localpath,img)\n",
    "    return (img,localpath)"
   ]
  },
  {
   "cell_type": "code",
   "execution_count": 713,
   "metadata": {
    "ExecuteTime": {
     "end_time": "2017-10-25T08:51:43.178267Z",
     "start_time": "2017-10-25T08:51:43.165167Z"
    }
   },
   "outputs": [],
   "source": [
    "def run_mser(img,org_img,delta=5,min_area=60,max_area=14400,max_variation=0.25,\n",
    "             min_diversity=0.2,max_evolution=200,area_threshold=1.01,min_margin=0.003,edge_blur_size=5):\n",
    "    \"\"\"\n",
    "    delta:          it compares (sizei−size'i−delta')/size'i−delta'\n",
    "    min_area:       prune the area which smaller than minArea\n",
    "    max_area:       prune the area which bigger than maxArea\n",
    "    max_variation:  prune the area have simliar size to its children\n",
    "    min_diversity:  for color image, trace back to cut off mser with diversity less than min_diversity\n",
    "    max_evolution:  for color image, the evolution steps\n",
    "    area_threshold: for color image, the area threshold to cause re-initialize\n",
    "    min_margin:     for color image, ignore too small margin\n",
    "    edge_blur_size: for color image, the aperture size for edge blur\n",
    "    \"\"\"\n",
    "    localpath=os.path.join(pathname,\"linesImg.png\")\n",
    "    # mser = cv2.MSER_create(1,25,200)\n",
    "    mser = cv2.MSER_create(delta,min_area,max_area,max_variation)# cv2.MSER_create(1,20,80,1)\n",
    "    regions,_ = mser.detectRegions(img)\n",
    "    rects=[cv2.boundingRect(p.reshape(-1,1,2)) for p in regions]\n",
    "    linesImg=org_img.copy()\n",
    "    for i,rect in enumerate(rects):\n",
    "        cv2.rectangle(linesImg,rect[0:2],(rect[0]+rect[2],rect[1]+rect[3]),(0,255,0),1)\n",
    "    cv2.imwrite(localpath,linesImg)\n",
    "    return (rects,localpath)"
   ]
  },
  {
   "cell_type": "code",
   "execution_count": 714,
   "metadata": {
    "ExecuteTime": {
     "end_time": "2017-10-25T08:51:43.190240Z",
     "start_time": "2017-10-25T08:51:43.179207Z"
    }
   },
   "outputs": [],
   "source": [
    "def draw_black_block(img,rects,f_enable=True,f_length_scale=1,f_shape_scale=7.0):\n",
    "    \"\"\"\n",
    "    f_enable: if True turns on filter\n",
    "    f_length_scale: the min length on width and height\n",
    "    f_shape_scale: the max shape\n",
    "    \"\"\"\n",
    "    localpath=os.path.join(pathname,\"filled.png\")\n",
    "    for i,rect in enumerate(rects):\n",
    "        width=rect[2]\n",
    "        height=rect[3]\n",
    "        if not f_enable or (width>f_length_scale and height>f_length_scale and (width/height<f_shape_scale) and (height/width<f_shape_scale)):\n",
    "            #print(str(width)+\" \"+str(height))\n",
    "            #cv2.rectangle(gray,(0,0),(10,20),(0,255,0),2)\n",
    "            offset=0\n",
    "            (top,left)=(rect[0]-offset,rect[1]-offset)\n",
    "            cv2.rectangle(img,(top,left),(rect[0]+rect[2]+2*offset,rect[1]+rect[3]+2*offset),(0,0,0),-1)\n",
    "    \n",
    "    cv2.imwrite(localpath,img)\n",
    "    return (img,localpath)"
   ]
  },
  {
   "cell_type": "code",
   "execution_count": 715,
   "metadata": {
    "ExecuteTime": {
     "end_time": "2017-10-25T08:51:43.280920Z",
     "start_time": "2017-10-25T08:51:43.191273Z"
    }
   },
   "outputs": [],
   "source": [
    "def detect_chars(img,org_img,f_enable=True,f_length_scale=1.0,f_shape_scale=6,f_area=100):\n",
    "    localpath=os.path.join(pathname,\"result.png\")\n",
    "    # detect black blocks\n",
    "    bgr=cv2.cvtColor(img,cv2.COLOR_GRAY2RGB)\n",
    "    img=cv2.cvtColor(bgr, cv2.COLOR_BGR2HSV)\n",
    "    # colours=['yellow','orange','red','green','black','white']\n",
    "    # lowers=[[30,255,255],[15,255,255],[6,255,255],[0,0,0],[0, 0, 205]]\n",
    "    # uppers=[[20,100,100],[5,100,100],[0,100,100],[180, 10, 50],[180, 10, 255]]\n",
    "\n",
    "    lower=np.array([0, 0, 0],np.uint8)\n",
    "    upper=np.array([180, 10, 50],np.uint8)\n",
    "    separated=cv2.inRange(img,lower,upper)\n",
    "\n",
    "    #this bit draws a red rectangle around the detected region \n",
    "    im2,contours,hierarchy=cv2.findContours(separated,cv2.RETR_LIST,cv2.CHAIN_APPROX_SIMPLE) \n",
    "    max_area = 0 \n",
    "    largest_contour = None\n",
    "    outImg=org_img.copy()\n",
    "    # the total number of corp chars\n",
    "    total_corps=0\n",
    "    # the number of corp single chars \n",
    "    single_corps=0\n",
    "    # the output path of corp chars\n",
    "    corp_chars_path=os.path.join(pathname,\"corp_chars_deep\")\n",
    "    # the output path of single chars\n",
    "    single_path=os.path.join(corp_chars_path,\"singles\")\n",
    "    # the scalar of single char\n",
    "    single_scalar=1.8\n",
    "    if not os.path.exists(corp_chars_path):\n",
    "        os.makedirs(corp_chars_path)\n",
    "    else:\n",
    "        shutil.rmtree(corp_chars_path)\n",
    "    if not os.path.exists(single_path):\n",
    "        os.makedirs(single_path)\n",
    "    else:\n",
    "        shutil.rmtree(single_path)\n",
    "\n",
    "    for idx, contour in enumerate(contours): \n",
    "        area = cv2.contourArea(contour) \n",
    "        # if area > max_area: \n",
    "        max_area = area \n",
    "        largest_contour=contour \n",
    "        if largest_contour is not None:\n",
    "            moment = cv2.moments(largest_contour) \n",
    "            rect = cv2.boundingRect(largest_contour)\n",
    "            (height,width)=(rect[2],rect[3])\n",
    "            area=cv2.contourArea(largest_contour)\n",
    "            if not f_enable or (height>f_length_scale and width>f_length_scale and ((width/height)<f_shape_scale) and ((height/width)<f_shape_scale) and area>f_area):\n",
    "                # print(cv2.contourArea(largest_contour))\n",
    "                total_corps+=1\n",
    "                x,y,w,h = rect\n",
    "                offset=0\n",
    "                cropped = outImg[y:y+h,x:x+w]\n",
    "                outfile=\"\"\n",
    "                if (width/height>=1.0 and width/height<=single_scalar) or (height/width>=1.0 and height/width<=single_scalar):\n",
    "                    single_corps+=1\n",
    "                    outfile=os.path.join(single_path, \"{0}_{1}_{2}_{3}_{4}.png\".format(idx,x,y,w,h))\n",
    "                else:\n",
    "                    outfile=os.path.join(corp_chars_path, \"{0}_{1}_{2}_{3}_{4}.png\".format(idx,x,y,w,h))\n",
    "                cv2.imwrite(outfile,cropped)\n",
    "                cv2.rectangle(org_img,(x-offset,y-offset),(x+w+2*offset,y+h+2*offset),(0,255,0),1)\n",
    "\n",
    "    print(\"total {0} chars, {1} single chars, output rate {2:0.3f}%\".format(total_corps,single_corps,single_corps/total_corps*100))\n",
    "    cv2.imwrite(localpath,org_img)\n",
    "    return localpath"
   ]
  },
  {
   "cell_type": "code",
   "execution_count": 716,
   "metadata": {
    "ExecuteTime": {
     "end_time": "2017-10-25T08:51:43.286171Z",
     "start_time": "2017-10-25T08:51:43.282003Z"
    }
   },
   "outputs": [
    {
     "data": {
      "image/png": "[encoded data removed]",
      "text/plain": [
       "<IPython.core.display.Image object>"
      ]
     },
     "execution_count": 716,
     "metadata": {},
     "output_type": "execute_result"
    }
   ],
   "source": [
    "img = cv2.imread(file)\n",
    "gray= cv2.imread(file,0)\n",
    "# display in IPython\n",
    "img_display(filename=file)"
   ]
  },
  {
   "cell_type": "code",
   "execution_count": 717,
   "metadata": {
    "ExecuteTime": {
     "end_time": "2017-10-25T08:51:43.291942Z",
     "start_time": "2017-10-25T08:51:43.287132Z"
    }
   },
   "outputs": [
    {
     "data": {
      "image/png": "[encoded data removed]",
      "text/plain": [
       "<IPython.core.display.Image object>"
      ]
     },
     "execution_count": 717,
     "metadata": {},
     "output_type": "execute_result"
    }
   ],
   "source": [
    "# apply blur\n",
    "ksize=(3,3)\n",
    "sigmaX=0\n",
    "sigmaY=0\n",
    "gray, filename=apply_blur(gray,ksize,sigmaX,sigmaY)\n",
    "img_display(filename=filename)"
   ]
  },
  {
   "cell_type": "code",
   "execution_count": 718,
   "metadata": {
    "ExecuteTime": {
     "end_time": "2017-10-25T08:51:43.295107Z",
     "start_time": "2017-10-25T08:51:43.292795Z"
    }
   },
   "outputs": [],
   "source": [
    "# invert color\n",
    "# gray,filename=invert_color(gray)\n",
    "# img_display(filename=filename)"
   ]
  },
  {
   "cell_type": "code",
   "execution_count": 719,
   "metadata": {
    "ExecuteTime": {
     "end_time": "2017-10-25T08:51:43.299292Z",
     "start_time": "2017-10-25T08:51:43.295987Z"
    }
   },
   "outputs": [
    {
     "data": {
      "image/png": "[encoded data removed]",
      "text/plain": [
       "<IPython.core.display.Image object>"
      ]
     },
     "execution_count": 719,
     "metadata": {},
     "output_type": "execute_result"
    }
   ],
   "source": [
    "# Apply dilation and erosion to remove some noise\n",
    "ksize=(1,1)\n",
    "iteration=1\n",
    "gray,filename=clean_noise(gray,ksize,iteration)\n",
    "img_display(filename=filename)"
   ]
  },
  {
   "cell_type": "code",
   "execution_count": 720,
   "metadata": {
    "ExecuteTime": {
     "end_time": "2017-10-25T08:51:43.301863Z",
     "start_time": "2017-10-25T08:51:43.300189Z"
    }
   },
   "outputs": [],
   "source": [
    "# bightness\n",
    "# gray,filename=apply_bightness(gray)\n",
    "# img_display(filename=filename)"
   ]
  },
  {
   "cell_type": "code",
   "execution_count": 721,
   "metadata": {
    "ExecuteTime": {
     "end_time": "2017-10-25T08:51:43.305606Z",
     "start_time": "2017-10-25T08:51:43.302968Z"
    }
   },
   "outputs": [],
   "source": [
    "# Apply threshold to get image with only black and white\n",
    "#gray,filename = apply_threshold(gray)\n",
    "#img_display(filename=filename)"
   ]
  },
  {
   "cell_type": "code",
   "execution_count": 722,
   "metadata": {
    "ExecuteTime": {
     "end_time": "2017-10-25T08:51:43.310447Z",
     "start_time": "2017-10-25T08:51:43.306516Z"
    }
   },
   "outputs": [
    {
     "data": {
      "image/png": "[encoded data removed]",
      "text/plain": [
       "<IPython.core.display.Image object>"
      ]
     },
     "execution_count": 722,
     "metadata": {},
     "output_type": "execute_result"
    }
   ],
   "source": [
    "# MSER to detect regions\n",
    "delta=1         # 5\n",
    "min_area=10     # 60\n",
    "max_area=30     # 14400\n",
    "max_variation=0.1 # 0.25\n",
    "rects,filename=run_mser(gray,img,delta,min_area,max_area,max_variation)\n",
    "img_display(filename=filename)"
   ]
  },
  {
   "cell_type": "code",
   "execution_count": 723,
   "metadata": {
    "ExecuteTime": {
     "end_time": "2017-10-25T08:51:43.315070Z",
     "start_time": "2017-10-25T08:51:43.311396Z"
    }
   },
   "outputs": [
    {
     "data": {
      "image/png": "[encoded data removed]",
      "text/plain": [
       "<IPython.core.display.Image object>"
      ]
     },
     "execution_count": 723,
     "metadata": {},
     "output_type": "execute_result"
    }
   ],
   "source": [
    "# draw rectangles\n",
    "f_enable=False\n",
    "f_length_scale=1\n",
    "f_shape_scale=7.0\n",
    "gray,filename=draw_black_block(gray,rects,f_enable,f_length_scale,f_shape_scale)\n",
    "img_display(filename=filename)"
   ]
  },
  {
   "cell_type": "code",
   "execution_count": 724,
   "metadata": {
    "ExecuteTime": {
     "end_time": "2017-10-25T08:51:43.321021Z",
     "start_time": "2017-10-25T08:51:43.316003Z"
    },
    "scrolled": true
   },
   "outputs": [
    {
     "name": "stdout",
     "output_type": "stream",
     "text": [
      "total 2 chars, 1 single chars, output rate 50.000%\n"
     ]
    },
    {
     "data": {
      "image/png": "[encoded data removed]",
      "text/plain": [
       "<IPython.core.display.Image object>"
      ]
     },
     "execution_count": 724,
     "metadata": {},
     "output_type": "execute_result"
    }
   ],
   "source": [
    "# detect black blocks\n",
    "f_enable=False\n",
    "f_length_scale=1.0\n",
    "f_shape_scale=6\n",
    "f_area=100\n",
    "filename=detect_chars(gray,img,f_enable,f_length_scale,f_shape_scale,f_area)\n",
    "img_display(filename=filename)"
   ]
  },
  {
   "cell_type": "code",
   "execution_count": null,
   "metadata": {},
   "outputs": [],
   "source": []
  }
 ],
 "metadata": {
  "kernelspec": {
   "display_name": "Python 3",
   "language": "python",
   "name": "python3"
  },
  "language_info": {
   "codemirror_mode": {
    "name": "ipython",
    "version": 3
   },
   "file_extension": ".py",
   "mimetype": "text/x-python",
   "name": "python",
   "nbconvert_exporter": "python",
   "pygments_lexer": "ipython3",
   "version": "3.5.2"
  },
  "varInspector": {
   "cols": {
    "lenName": 16,
    "lenType": 16,
    "lenVar": 40
   },
   "kernels_config": {
    "python": {
     "delete_cmd_postfix": "",
     "delete_cmd_prefix": "del ",
     "library": "var_list.py",
     "varRefreshCmd": "print(var_dic_list())"
    },
    "r": {
     "delete_cmd_postfix": ") ",
     "delete_cmd_prefix": "rm(",
     "library": "var_list.r",
     "varRefreshCmd": "cat(var_dic_list()) "
    }
   },
   "types_to_exclude": [
    "module",
    "function",
    "builtin_function_or_method",
    "instance",
    "_Feature"
   ],
   "window_display": false
  }
 },
 "nbformat": 4,
 "nbformat_minor": 2
}
