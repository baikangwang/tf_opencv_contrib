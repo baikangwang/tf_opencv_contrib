{
 "cells": [
  {
   "cell_type": "code",
   "execution_count": 157,
   "metadata": {
    "collapsed": true
   },
   "outputs": [],
   "source": [
    "import sys\n",
    "import os\n",
    "import cv2\n",
    "import numpy as np\n",
    "from IPython.display import Image as img_display"
   ]
  },
  {
   "cell_type": "code",
   "execution_count": 158,
   "metadata": {},
   "outputs": [
    {
     "name": "stdout",
     "output_type": "stream",
     "text": [
      "\n",
      "detect_er_chars.py\n",
      "       A simple demo script using the Extremal Region Filter algorithm described in:\n",
      "       Neumann L., Matas J.: Real-Time Scene Text Localization and Recognition, CVPR 2012\n",
      "\n"
     ]
    }
   ],
   "source": [
    "print('\\ndetect_er_chars.py')\n",
    "print('       A simple demo script using the Extremal Region Filter algorithm described in:')\n",
    "print('       Neumann L., Matas J.: Real-Time Scene Text Localization and Recognition, CVPR 2012\\n')"
   ]
  },
  {
   "cell_type": "code",
   "execution_count": 159,
   "metadata": {
    "collapsed": true
   },
   "outputs": [],
   "source": [
    "# if (len(sys.argv) < 2):\n",
    "#   print(' (ERROR) You must call this script with an argument (path_to_image_to_be_processed)\\n')\n",
    "#   quit()\n",
    "file='scenetext_char011.png'"
   ]
  },
  {
   "cell_type": "code",
   "execution_count": 160,
   "metadata": {},
   "outputs": [
    {
     "data": {
      "image/png": "[encoded data removed]",
      "text/plain": [
       "<IPython.core.display.Image object>"
      ]
     },
     "execution_count": 160,
     "metadata": {},
     "output_type": "execute_result"
    }
   ],
   "source": [
    "pathname='/notebooks/resources' #os.path.dirname(sys.argv[0])\n",
    "file=pathname+'/'+file\n",
    "img = cv2.imread(file)#(str(sys.argv[1]))\n",
    "gray= cv2.imread(file,0)#(str(sys.argv[1]),0)\n",
    "img_display(filename=file)"
   ]
  },
  {
   "cell_type": "code",
   "execution_count": 161,
   "metadata": {},
   "outputs": [
    {
     "data": {
      "image/png": "[encoded data removed]",
      "text/plain": [
       "<IPython.core.display.Image object>"
      ]
     },
     "execution_count": 161,
     "metadata": {},
     "output_type": "execute_result"
    }
   ],
   "source": [
    "#Apply dilation and erosion to remove some noise\n",
    "kernel =np.ones((1,1),np.uint8)\n",
    "gray=cv2.dilate(gray,kernel,iterations=1)\n",
    "gray=cv2.erode(gray,kernel,iterations=1)\n",
    "\n",
    "#Write image after removed noise\n",
    "cv2.imwrite(pathname+\"/removed_noise.png\",gray)\n",
    "# display in IPython\n",
    "img_display(filename=pathname+\"/removed_noise.png\")"
   ]
  },
  {
   "cell_type": "code",
   "execution_count": 162,
   "metadata": {},
   "outputs": [
    {
     "data": {
      "image/png": "[encoded data removed]",
      "text/plain": [
       "<IPython.core.display.Image object>"
      ]
     },
     "execution_count": 162,
     "metadata": {},
     "output_type": "execute_result"
    }
   ],
   "source": [
    "# Apply threshold to get image with only black and white\n",
    "gray=cv2.adaptiveThreshold(gray,255,cv2.ADAPTIVE_THRESH_GAUSSIAN_C,cv2.THRESH_BINARY,31,2)\n",
    "\n",
    "# invert color\n",
    "gray=cv2.bitwise_not(gray)\n",
    "\n",
    "# Write the image after apply opencv to do some...\n",
    "cv2.imwrite(pathname+\"/thres.png\",gray)\n",
    "# display in IPython\n",
    "img_display(filename=pathname+\"/thres.png\")"
   ]
  },
  {
   "cell_type": "code",
   "execution_count": 163,
   "metadata": {},
   "outputs": [],
   "source": [
    "erc1=cv2.text.loadClassifierNM1(pathname+'/trained_classifierNM1.xml')\n",
    "er1=cv2.text.createERFilterNM1(erc1)\n",
    "\n",
    "erc2=cv2.text.loadClassifierNM2(pathname+'/trained_classifierNM2.xml')\n",
    "er2=cv2.text.createERFilterNM2(erc2)\n",
    "\n",
    "regions=cv2.text.detectRegions(gray,er1,er2)"
   ]
  },
  {
   "cell_type": "code",
   "execution_count": 164,
   "metadata": {},
   "outputs": [
    {
     "data": {
      "text/plain": [
       "[array([[37, 63],\n",
       "        [36, 64],\n",
       "        [35, 64],\n",
       "        [34, 64],\n",
       "        [33, 65],\n",
       "        [32, 65],\n",
       "        [31, 65],\n",
       "        [30, 66],\n",
       "        [29, 67],\n",
       "        [29, 68],\n",
       "        [29, 69],\n",
       "        [29, 70],\n",
       "        [29, 71],\n",
       "        [29, 72],\n",
       "        [29, 73],\n",
       "        [30, 74],\n",
       "        [30, 75],\n",
       "        [30, 76],\n",
       "        [31, 77],\n",
       "        [31, 78],\n",
       "        [32, 79],\n",
       "        [33, 79],\n",
       "        [34, 79],\n",
       "        [35, 79],\n",
       "        [36, 79],\n",
       "        [37, 78],\n",
       "        [38, 77],\n",
       "        [38, 76],\n",
       "        [38, 75],\n",
       "        [39, 74],\n",
       "        [39, 73],\n",
       "        [40, 72],\n",
       "        [40, 71],\n",
       "        [40, 70],\n",
       "        [40, 69],\n",
       "        [40, 68],\n",
       "        [39, 67],\n",
       "        [39, 66],\n",
       "        [38, 65],\n",
       "        [38, 64]], dtype=int32), array([[82,  6],\n",
       "        [81,  7],\n",
       "        [80,  7],\n",
       "        [80,  8],\n",
       "        [79,  9],\n",
       "        [79, 10],\n",
       "        [80, 11],\n",
       "        [80, 12],\n",
       "        [81, 13],\n",
       "        [81, 14],\n",
       "        [81, 15],\n",
       "        [81, 16],\n",
       "        [81, 17],\n",
       "        [81, 18],\n",
       "        [81, 19],\n",
       "        [82, 20],\n",
       "        [82, 21],\n",
       "        [83, 21],\n",
       "        [83, 20],\n",
       "        [83, 19],\n",
       "        [83, 18],\n",
       "        [83, 17],\n",
       "        [83, 16],\n",
       "        [83, 15],\n",
       "        [83, 14],\n",
       "        [83, 13],\n",
       "        [83, 12],\n",
       "        [83, 11],\n",
       "        [83, 10],\n",
       "        [83,  9],\n",
       "        [83,  8],\n",
       "        [83,  7],\n",
       "        [83,  6]], dtype=int32), array([[82, 25],\n",
       "        [82, 26],\n",
       "        [81, 27],\n",
       "        [81, 28],\n",
       "        [81, 29],\n",
       "        [81, 30],\n",
       "        [81, 31],\n",
       "        [81, 32],\n",
       "        [80, 33],\n",
       "        [81, 34],\n",
       "        [81, 35],\n",
       "        [82, 36],\n",
       "        [83, 36],\n",
       "        [83, 35],\n",
       "        [83, 34],\n",
       "        [83, 33],\n",
       "        [83, 32],\n",
       "        [83, 31],\n",
       "        [83, 30],\n",
       "        [83, 29],\n",
       "        [83, 28],\n",
       "        [83, 27],\n",
       "        [83, 26],\n",
       "        [83, 25]], dtype=int32), array([[82, 44],\n",
       "        [81, 45],\n",
       "        [81, 46],\n",
       "        [81, 47],\n",
       "        [82, 46],\n",
       "        [83, 47],\n",
       "        [83, 48],\n",
       "        [83, 47],\n",
       "        [83, 46],\n",
       "        [83, 45],\n",
       "        [83, 44]], dtype=int32), array([[82, 72],\n",
       "        [82, 73],\n",
       "        [82, 74],\n",
       "        [82, 75],\n",
       "        [82, 76],\n",
       "        [82, 77],\n",
       "        [81, 78],\n",
       "        [81, 79],\n",
       "        [80, 80],\n",
       "        [80, 81],\n",
       "        [80, 82],\n",
       "        [80, 83],\n",
       "        [80, 84],\n",
       "        [81, 83],\n",
       "        [82, 84],\n",
       "        [83, 85],\n",
       "        [83, 84],\n",
       "        [83, 83],\n",
       "        [83, 82],\n",
       "        [83, 81],\n",
       "        [83, 80],\n",
       "        [83, 79],\n",
       "        [83, 78],\n",
       "        [83, 77],\n",
       "        [83, 76],\n",
       "        [83, 75],\n",
       "        [83, 74],\n",
       "        [83, 73]], dtype=int32), array([[82, 52],\n",
       "        [81, 53],\n",
       "        [80, 53],\n",
       "        [79, 53],\n",
       "        [79, 54],\n",
       "        [79, 55],\n",
       "        [78, 56],\n",
       "        [78, 57],\n",
       "        [78, 58],\n",
       "        [78, 59],\n",
       "        [79, 60],\n",
       "        [79, 61],\n",
       "        [80, 61],\n",
       "        [81, 61],\n",
       "        [82, 60],\n",
       "        [83, 61],\n",
       "        [83, 62],\n",
       "        [83, 61],\n",
       "        [83, 60],\n",
       "        [83, 59],\n",
       "        [83, 58],\n",
       "        [83, 57],\n",
       "        [83, 56],\n",
       "        [83, 55],\n",
       "        [83, 54],\n",
       "        [83, 53],\n",
       "        [83, 52]], dtype=int32), array([[ 81,  86],\n",
       "        [ 81,  87],\n",
       "        [ 80,  88],\n",
       "        [ 80,  89],\n",
       "        [ 80,  90],\n",
       "        [ 79,  91],\n",
       "        [ 79,  92],\n",
       "        [ 79,  93],\n",
       "        [ 79,  94],\n",
       "        [ 79,  95],\n",
       "        [ 79,  96],\n",
       "        [ 78,  97],\n",
       "        [ 79,  98],\n",
       "        [ 79,  99],\n",
       "        [ 80, 100],\n",
       "        [ 80, 101],\n",
       "        [ 80, 102],\n",
       "        [ 79, 103],\n",
       "        [ 79, 104],\n",
       "        [ 79, 105],\n",
       "        [ 78, 106],\n",
       "        [ 77, 107],\n",
       "        [ 76, 108],\n",
       "        [ 75, 108],\n",
       "        [ 74, 109],\n",
       "        [ 73, 110],\n",
       "        [ 73, 111],\n",
       "        [ 74, 111],\n",
       "        [ 75, 111],\n",
       "        [ 76, 111],\n",
       "        [ 77, 111],\n",
       "        [ 78, 111],\n",
       "        [ 79, 111],\n",
       "        [ 80, 110],\n",
       "        [ 80, 109],\n",
       "        [ 80, 108],\n",
       "        [ 81, 107],\n",
       "        [ 82, 108],\n",
       "        [ 83, 107],\n",
       "        [ 83, 106],\n",
       "        [ 83, 105],\n",
       "        [ 83, 104],\n",
       "        [ 83, 103],\n",
       "        [ 83, 102],\n",
       "        [ 83, 101],\n",
       "        [ 83, 100],\n",
       "        [ 83,  99],\n",
       "        [ 83,  98],\n",
       "        [ 83,  97],\n",
       "        [ 83,  96],\n",
       "        [ 83,  95],\n",
       "        [ 83,  94],\n",
       "        [ 83,  93],\n",
       "        [ 83,  92],\n",
       "        [ 83,  91],\n",
       "        [ 83,  90],\n",
       "        [ 83,  89],\n",
       "        [ 83,  88],\n",
       "        [ 83,  87],\n",
       "        [ 82,  87]], dtype=int32), array([[  0, 103],\n",
       "        [  0, 104],\n",
       "        [  0, 105],\n",
       "        [  0, 106],\n",
       "        [  0, 107],\n",
       "        [  0, 108],\n",
       "        [  0, 109],\n",
       "        [  1, 109],\n",
       "        [  2, 110],\n",
       "        [  3, 111],\n",
       "        [  4, 111],\n",
       "        [  5, 111],\n",
       "        [  6, 111],\n",
       "        [  7, 111],\n",
       "        [  6, 110],\n",
       "        [  6, 109],\n",
       "        [  5, 108],\n",
       "        [  4, 107],\n",
       "        [  3, 106],\n",
       "        [  2, 105],\n",
       "        [  1, 104]], dtype=int32)]"
      ]
     },
     "execution_count": 164,
     "metadata": {},
     "output_type": "execute_result"
    }
   ],
   "source": [
    "regions"
   ]
  },
  {
   "cell_type": "code",
   "execution_count": 165,
   "metadata": {},
   "outputs": [
    {
     "data": {
      "image/png": "[encoded data removed]",
      "text/plain": [
       "<IPython.core.display.Image object>"
      ]
     },
     "execution_count": 165,
     "metadata": {},
     "output_type": "execute_result"
    }
   ],
   "source": [
    "# Visaulization\n",
    "# rects=[cv2.boundingRect(p) for p in regions] #[cv2.boundingRect(p.reshape(-1,1,2)) for p in regions]\n",
    "rects=[cv2.boundingRect(p.reshape(-1,1,2)) for p in regions]\n",
    "for rect in rects:\n",
    "    cv2.rectangle(img,rect[0:2],(rect[0]+rect[2],rect[1]+rect[3]),(0,0,0),2)\n",
    "for rect in rects:\n",
    "    cv2.rectangle(img,rect[0:2],(rect[0]+rect[2],rect[1]+rect[3]),(255,255,255),1)\n",
    "#cv2.imshow(\"Text detection result\",img)\n",
    "# cv2.waitKey(0)\n",
    "cv2.imwrite(pathname+\"/result.png\",img)\n",
    "img_display(filename=pathname+\"/result.png\")"
   ]
  },
  {
   "cell_type": "code",
   "execution_count": null,
   "metadata": {
    "collapsed": true
   },
   "outputs": [],
   "source": []
  }
 ],
 "metadata": {
  "kernelspec": {
   "display_name": "Python 3",
   "language": "python",
   "name": "python3"
  },
  "language_info": {
   "codemirror_mode": {
    "name": "ipython",
    "version": 3
   },
   "file_extension": ".py",
   "mimetype": "text/x-python",
   "name": "python",
   "nbconvert_exporter": "python",
   "pygments_lexer": "ipython3",
   "version": "3.5.2"
  }
 },
 "nbformat": 4,
 "nbformat_minor": 2
}
