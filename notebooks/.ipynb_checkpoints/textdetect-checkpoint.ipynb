{
 "cells": [
  {
   "cell_type": "code",
   "execution_count": 38,
   "metadata": {
    "collapsed": true
   },
   "outputs": [],
   "source": [
    "import sys\n",
    "import os\n",
    "import cv2\n",
    "import numpy as np\n",
    "from IPython.display import Image as img_display"
   ]
  },
  {
   "cell_type": "code",
   "execution_count": 39,
   "metadata": {},
   "outputs": [
    {
     "name": "stdout",
     "output_type": "stream",
     "text": [
      "\n",
      "detect_er_chars.py\n",
      "       A simple demo script using the Extremal Region Filter algorithm described in:\n",
      "       Neumann L., Matas J.: Real-Time Scene Text Localization and Recognition, CVPR 2012\n",
      "\n"
     ]
    }
   ],
   "source": [
    "print('\\ndetect_er_chars.py')\n",
    "print('       A simple demo script using the Extremal Region Filter algorithm described in:')\n",
    "print('       Neumann L., Matas J.: Real-Time Scene Text Localization and Recognition, CVPR 2012\\n')"
   ]
  },
  {
   "cell_type": "code",
   "execution_count": 40,
   "metadata": {
    "collapsed": true
   },
   "outputs": [],
   "source": [
    "pathname='/notebooks/resources' #os.path.dirname(sys.argv[0])\n",
    "file=pathname+'/'+'scenetext_char011.png'\n",
    "#img_display(filename=file)"
   ]
  },
  {
   "cell_type": "code",
   "execution_count": 41,
   "metadata": {
    "collapsed": true
   },
   "outputs": [],
   "source": [
    "img = cv2.imread(file)#(str(sys.argv[1]))\n",
    "gray= cv2.imread(file,0)#(str(sys.argv[1]),0)"
   ]
  },
  {
   "cell_type": "code",
   "execution_count": 42,
   "metadata": {},
   "outputs": [
    {
     "data": {
      "image/png": "[encoded data removed]",
      "text/plain": [
       "<IPython.core.display.Image object>"
      ]
     },
     "execution_count": 42,
     "metadata": {},
     "output_type": "execute_result"
    }
   ],
   "source": [
    "# bightness\n",
    "# value=255\n",
    "# gray = np.where((255 - gray) > 0,0,255)\n",
    "# for x in range(0, len(gray)):\n",
    "#     for y in range(0, len(gray[x])):\n",
    "#         if gray[x,y]<255:\n",
    "#             gray[x, y]=0\n",
    "#cv2.imwrite(pathname+\"/brightness.png\",gray)\n",
    "#img_display(filename=pathname+\"/brightness.png\")\n",
    "# invert color\n",
    "#gray=cv2.bitwise_not(gray)\n",
    "#cv2.imwrite(pathname+\"/bitwise.png\",gray)\n",
    "#img_display(filename=pathname+\"/bitwise.png\")"
   ]
  },
  {
   "cell_type": "code",
   "execution_count": 43,
   "metadata": {
    "collapsed": true
   },
   "outputs": [],
   "source": [
    "# Apply dilation and erosion to remove some noise\n",
    "# kernel =np.ones((1,1),np.uint8)\n",
    "# gray=cv2.dilate(gray,kernel,iterations=1)\n",
    "# gray=cv2.erode(gray,kernel,iterations=1)\n",
    "\n",
    "# Write image after removed noise\n",
    "#cv2.imwrite(pathname+\"/removed_noise.png\",gray)\n",
    "# display in IPython\n",
    "#img_display(filename=pathname+\"/removed_noise.png\")"
   ]
  },
  {
   "cell_type": "code",
   "execution_count": 44,
   "metadata": {},
   "outputs": [],
   "source": [
    "# Apply threshold to get image with only black and white\n",
    "gray = cv2.adaptiveThreshold(gray,255,cv2.ADAPTIVE_THRESH_GAUSSIAN_C,cv2.THRESH_BINARY,31,2)\n",
    "\n",
    "# Write the image after apply opencv to do some...\n",
    "# cv2.imwrite(pathname+\"/thres.png\",gray)\n",
    "# display in IPython\n",
    "# img_display(filename=pathname+\"/thres.png\")"
   ]
  },
  {
   "cell_type": "code",
   "execution_count": 45,
   "metadata": {},
   "outputs": [
    {
     "data": {
      "image/png": "[encoded data removed]",
      "text/plain": [
       "<IPython.core.display.Image object>"
      ]
     },
     "execution_count": 45,
     "metadata": {},
     "output_type": "execute_result"
    }
   ],
   "source": [
    "# mser = cv2.MSER_create(1,25,200)\n",
    "mser = cv2.MSER_create(1,25,200,1)\n",
    "regions,_ = mser.detectRegions(gray)\n",
    "#hulls = [cv2.convexHull(p.reshape(-1, 1, 2)) for p in regions]\n",
    "#cv2.polylines(img, hulls, 1, (0, 255, 0)) \n",
    "rects=[cv2.boundingRect(p.reshape(-1,1,2)) for p in regions]\n",
    "for rect in rects:\n",
    "    cv2.rectangle(gray,rect[0:2],(rect[0]+rect[2],rect[1]+rect[3]),(0,0,0),-1)\n",
    "    \n",
    "cv2.imwrite(pathname+\"/filled.png\",gray)\n",
    "img_display(filename=pathname+\"/filled.png\")"
   ]
  },
  {
   "cell_type": "code",
   "execution_count": 46,
   "metadata": {
    "collapsed": true
   },
   "outputs": [],
   "source": [
    "regions,_ = mser.detectRegions(gray)\n",
    "rects=[cv2.boundingRect(p.reshape(-1,1,2)) for p in regions]\n",
    "for rect in rects:\n",
    "    cv2.rectangle(img,rect[0:2],(rect[0]+rect[2],rect[1]+rect[3]),(0,255,0),1)"
   ]
  },
  {
   "cell_type": "code",
   "execution_count": 47,
   "metadata": {},
   "outputs": [
    {
     "data": {
      "image/png": "[encoded data removed]",
      "text/plain": [
       "<IPython.core.display.Image object>"
      ]
     },
     "execution_count": 47,
     "metadata": {},
     "output_type": "execute_result"
    }
   ],
   "source": [
    "#cv2.imshow(\"Text detection result\",img)\n",
    "# cv2.waitKey(0)\n",
    "cv2.imwrite(pathname+\"/result.png\",img)\n",
    "img_display(filename=pathname+\"/result.png\")"
   ]
  }
 ],
 "metadata": {
  "kernelspec": {
   "display_name": "Python 3",
   "language": "python",
   "name": "python3"
  },
  "language_info": {
   "codemirror_mode": {
    "name": "ipython",
    "version": 3
   },
   "file_extension": ".py",
   "mimetype": "text/x-python",
   "name": "python",
   "nbconvert_exporter": "python",
   "pygments_lexer": "ipython3",
   "version": "3.5.2"
  }
 },
 "nbformat": 4,
 "nbformat_minor": 2
}
