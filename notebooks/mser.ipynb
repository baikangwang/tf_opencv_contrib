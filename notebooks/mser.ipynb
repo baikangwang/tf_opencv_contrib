{
 "cells": [
  {
   "cell_type": "code",
   "execution_count": 32,
   "metadata": {
    "collapsed": true
   },
   "outputs": [],
   "source": [
    "import numpy as np\n",
    "import cv2\n",
    "#import matplotlib.pyplot as plt #plt.plot(x,y) plt.show()\n",
    "from IPython.display import Image as img_display"
   ]
  },
  {
   "cell_type": "code",
   "execution_count": 33,
   "metadata": {
    "collapsed": true
   },
   "outputs": [],
   "source": [
    "mser = cv2.MSER_create()"
   ]
  },
  {
   "cell_type": "code",
   "execution_count": 34,
   "metadata": {},
   "outputs": [
    {
     "data": {
      "image/png": "[encoded data removed]",
      "text/plain": [
       "<IPython.core.display.Image object>"
      ]
     },
     "execution_count": 34,
     "metadata": {},
     "output_type": "execute_result"
    }
   ],
   "source": [
    "pathname='/notebooks/resources'\n",
    "file='char_g.png'\n",
    "file=pathname +\"/\"+file\n",
    "# img = cv2.imread('TestText.png')\n",
    "img = cv2.imread(file) #(str(sys.argv[1]))\n",
    "\n",
    "# gray = cv2.cvtColor(img, cv2.COLOR_BGR2GRAY)\n",
    "gray= cv2.imread(file,0) #(str(sys.argv[1]),0)\n",
    "vis = gray.copy()\n",
    "img_display(filename=file)"
   ]
  },
  {
   "cell_type": "code",
   "execution_count": 35,
   "metadata": {},
   "outputs": [
    {
     "data": {
      "text/plain": [
       "array([[255, 255, 255, 255, 255, 255, 255, 255, 255, 255, 255, 255, 255,\n",
       "        255, 255, 255, 255, 255, 255, 255, 255, 255, 255, 255],\n",
       "       [255,   0,   0,   0,   0,   0,   0,   0,   0,   0,   0,   0,   0,\n",
       "          0,   0,   0,   0,   0,   0,   0,   0,   0,   0, 255],\n",
       "       [255,   0, 255, 255, 255, 255, 255, 255, 255,   0,   0,   0,   0,\n",
       "        236, 130,   0,   0,   0, 255, 255, 255, 255,   0, 255],\n",
       "       [255,   0, 255, 255, 255, 255, 255, 255,   0,   0,   0, 120,  96,\n",
       "        255, 255, 114,   0,   0,   0, 255, 255, 255,   0, 255],\n",
       "       [255,   0, 255, 255, 255, 255, 255,   0,   0,   0, 196, 255, 255,\n",
       "        255, 255, 255,  99,   0,   0, 255, 255, 255,   0, 247],\n",
       "       [255,   0, 255, 255, 255, 255, 255,   0,   0, 179, 255, 255, 255,\n",
       "        255, 255, 255, 255,  84,   0,   0, 255, 255,   0, 255],\n",
       "       [255,   0, 255, 255, 255, 255,   0,   0, 165, 255, 255, 255, 255,\n",
       "        255, 255, 255, 255, 206,   0,   0, 255, 255,   0, 255],\n",
       "       [255,   0, 255, 255, 255, 255,   0,   0, 165, 255, 255, 255, 255,\n",
       "        255, 255, 255, 255, 255,   0,   0, 255, 255,   0, 255],\n",
       "       [255,   0, 255, 255, 255, 255,   0,  21, 255, 255, 255, 255, 255,\n",
       "        255, 255, 255, 255, 255,   0,   0, 255, 255,   0, 255],\n",
       "       [255,   0, 255, 255, 255, 255,   0,  21, 255, 255, 255, 255, 255,\n",
       "        255, 255, 255, 255,   0, 255,   0,   0, 255,   0, 255],\n",
       "       [255,   0, 255, 255, 255, 255,   0,  21, 255, 255, 255, 255, 255,\n",
       "        255, 255, 255, 255,   0, 255,   0,   0, 255,   0, 255],\n",
       "       [255,   0, 255, 255, 255, 255,   0,  21, 255, 255, 255, 255, 255,\n",
       "        255, 255, 255, 133,   0,  59,   0,   0, 255,   0, 255],\n",
       "       [255,   0, 255, 255, 255, 255,   0, 149, 255, 255, 255, 255, 255,\n",
       "         16,   0,   0,   0,   0,   0, 199,   0, 255,   0, 255],\n",
       "       [255,   0, 255, 255, 255, 255,   0,  21, 255, 255, 255, 255, 255,\n",
       "        141,   0,   0,   0,   0,   0,   0,   0, 255,   0, 255],\n",
       "       [255,   0, 255, 255, 255, 255,   0,  21, 255, 255, 255, 255, 255,\n",
       "        255, 255, 255,   0,  84,   0,   0,   0, 228,   0, 255],\n",
       "       [255,   0, 255, 255, 255, 255,   0,   0, 165, 255, 255, 255, 255,\n",
       "        255, 255, 255,   0, 206,   0,   0,   0, 228,   0, 255],\n",
       "       [255,   0, 255, 255, 255, 255,   0,   0,  41, 255, 255, 255, 255,\n",
       "        255, 255, 255,   0, 206,   0,   0,   0,   0,   0, 255],\n",
       "       [255,   0, 255, 255, 255, 255, 255,   0,   0,  57, 255, 255, 255,\n",
       "        255, 255,   0, 255, 206,   0,   0,  89,   0,   0, 255],\n",
       "       [255,   0, 255, 255, 255, 255, 255, 228,   0,   0,   0, 120, 223,\n",
       "        255, 255,   0,   0,   0, 120,   0,   0,   0,   0, 255],\n",
       "       [255,   0, 255, 255, 255, 255, 255, 255, 255,   0,   0,   0,   0,\n",
       "          0,   0,   0, 155, 255,   0,   0,   0,   0,   0, 255],\n",
       "       [255,   0, 255, 255, 255, 255, 255, 255, 255, 255, 255, 255,   0,\n",
       "          0,   0,   0,   0,   0, 255, 255, 255, 255,   0, 255],\n",
       "       [255,   0, 255, 255, 255, 255, 255, 255, 255, 255, 255, 255, 255,\n",
       "        255, 255, 255, 255, 255, 255, 255, 255, 255,   0, 255],\n",
       "       [255,   0,   0,   0,   0,   0,   0,   0,   0,   0,   0,   0,   0,\n",
       "          0,   0,   0,   0,   0,   0,   0,   0,   0,   0, 255],\n",
       "       [255, 255, 255, 255, 255, 255, 255, 255, 255, 255, 255, 255, 255,\n",
       "        255, 255, 255, 255, 255, 255, 255, 255, 255, 255, 255]], dtype=uint8)"
      ]
     },
     "execution_count": 35,
     "metadata": {},
     "output_type": "execute_result"
    }
   ],
   "source": [
    "regions,_ = mser.detectRegions(gray)\n",
    "\n",
    "hulls = [cv2.convexHull(p.reshape(-1, 1, 2)) for p in regions]\n",
    "cv2.polylines(vis, hulls, 1, (0, 255, 0)) \n",
    "#cv2.putText(vis, str('change'), (20, 20), cv2.FONT_HERSHEY_SIMPLEX, 2, (255, 0, 0))\n",
    "#cv2.fillPoly(vis, hulls, (0, 255, 0))\n",
    "#rects=[cv2.boundingRect(p.reshape(-1, 1, 2)) for p in regions]\n",
    "#for rect in rects:\n",
    "#    cv2.rectangle(vis,rect[0:2],(rect[0]+rect[2],rect[1]+rect[3]),(0,0,0),2)\n",
    "#for rect in rects:\n",
    "#    cv2.rectangle(vis,rect[0:2],(rect[0]+rect[2],rect[1]+rect[3]),(255,255,255),1)"
   ]
  },
  {
   "cell_type": "code",
   "execution_count": 36,
   "metadata": {},
   "outputs": [
    {
     "data": {
      "image/png": "[encoded data removed]",
      "text/plain": [
       "<IPython.core.display.Image object>"
      ]
     },
     "execution_count": 36,
     "metadata": {},
     "output_type": "execute_result"
    }
   ],
   "source": [
    "# cv2.imwrite(\"test.png\", vis)    \n",
    "# cv2.imshow('img', vis)\n",
    "# cv2.waitKey(0)\n",
    "# cv2.destroyAllWindows()\n",
    "cv2.imwrite(pathname+\"/result.png\",vis)\n",
    "img_display(filename=pathname+\"/result.png\")"
   ]
  },
  {
   "cell_type": "code",
   "execution_count": null,
   "metadata": {
    "collapsed": true
   },
   "outputs": [],
   "source": []
  }
 ],
 "metadata": {
  "kernelspec": {
   "display_name": "Python 3",
   "language": "python",
   "name": "python3"
  },
  "language_info": {
   "codemirror_mode": {
    "name": "ipython",
    "version": 3
   },
   "file_extension": ".py",
   "mimetype": "text/x-python",
   "name": "python",
   "nbconvert_exporter": "python",
   "pygments_lexer": "ipython3",
   "version": "3.5.2"
  }
 },
 "nbformat": 4,
 "nbformat_minor": 2
}
