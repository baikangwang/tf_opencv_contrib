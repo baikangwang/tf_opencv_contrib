{
 "cells": [
  {
   "cell_type": "code",
   "execution_count": 33,
   "metadata": {
    "collapsed": true
   },
   "outputs": [],
   "source": [
    "# refer tensorflow and rename as tf\n",
    "import tensorflow as tf\n",
    "# matrix operation lib\n",
    "import numpy as np"
   ]
  },
  {
   "cell_type": "code",
   "execution_count": 34,
   "metadata": {
    "collapsed": true
   },
   "outputs": [],
   "source": [
    "# network structure: 2d input layer-->2d hidden layer-->1d output layer\n",
    "# learning rate:0.0001\n",
    "D_input  = 2\n",
    "D_label  = 1\n",
    "D_hidden = 2\n",
    "lr       = 1e-4\n",
    "\n",
    "x=tf.placeholder(tf.float32,[None,D_input],name=\"x\")\n",
    "t=tf.placeholder(tf.float32,[None,D_label],name=\"t\")\n",
    "\n",
    "# hidden layer\n",
    "# initial W\n",
    "with tf.name_scope(\"hidden\"):\n",
    "    W_h1=tf.Variable(tf.truncated_normal([D_input,D_hidden],stddev=0.1),name=\"W_h\")\n",
    "    # initial b\n",
    "    b_h1=tf.Variable(tf.constant(0.1,shape=[D_hidden]),name=\"b_h\")\n",
    "    # Wx+b\n",
    "    pre_act_h1=tf.matmul(x,W_h1)+b_h1\n",
    "    # a(Wx+b)\n",
    "    act_h1=tf.nn.relu(pre_act_h1,name='act_h')\n",
    "\n",
    "# output layer\n",
    "with tf.name_scope(\"output\"):\n",
    "    W_o=tf.Variable(tf.truncated_normal([D_hidden,D_label],stddev=0.1),name=\"W_o\")\n",
    "    b_o=tf.Variable(tf.constant(0.1,shape=[D_label]),name=\"b_o\")\n",
    "    pre_act_o=tf.matmul(act_h1,W_o)+b_o\n",
    "    y=tf.nn.relu(pre_act_o,name='act_y')\n",
    "\n",
    "with tf.name_scope(\"loss\"):\n",
    "    loss=tf.reduce_mean((y-t)**2)\n",
    "\n",
    "with tf.name_scope(\"train\"):\n",
    "    train_step=tf.train.AdamOptimizer(lr).minimize(loss)"
   ]
  },
  {
   "cell_type": "code",
   "execution_count": 35,
   "metadata": {
    "collapsed": true
   },
   "outputs": [],
   "source": [
    "# x and y are matrix containing 4 data, x[i] -> y[i]\n",
    "X=[[0,0],[0,1],[1,0],[1,1]]\n",
    "Y=[[0],[1],[1],[0]]\n",
    "X=np.array(X).astype('int16')\n",
    "Y=np.array(Y).astype('int16')"
   ]
  },
  {
   "cell_type": "code",
   "execution_count": 36,
   "metadata": {
    "collapsed": true
   },
   "outputs": [],
   "source": [
    "# initial seesion\n",
    "sess=tf.InteractiveSession()\n",
    "# initial weight\n",
    "tf.global_variables_initializer().run()"
   ]
  },
  {
   "cell_type": "code",
   "execution_count": 37,
   "metadata": {
    "collapsed": true
   },
   "outputs": [],
   "source": [
    "# training\n",
    "T=40000 # training 10000 times\n",
    "for i in range(T):\n",
    "    sess.run(train_step,feed_dict={x:X,t:Y})"
   ]
  },
  {
   "cell_type": "code",
   "execution_count": 38,
   "metadata": {
    "collapsed": true
   },
   "outputs": [],
   "source": [
    "file_writer = tf.summary.FileWriter('logs', sess.graph)"
   ]
  },
  {
   "cell_type": "code",
   "execution_count": 39,
   "metadata": {
    "scrolled": true
   },
   "outputs": [
    {
     "data": {
      "text/plain": [
       "array([[ 0.5],\n",
       "       [ 0.5],\n",
       "       [ 0.5],\n",
       "       [ 0.5]], dtype=float32)"
      ]
     },
     "execution_count": 39,
     "metadata": {},
     "output_type": "execute_result"
    }
   ],
   "source": [
    "# predict\n",
    "sess.run(y,feed_dict={x:X})"
   ]
  },
  {
   "cell_type": "code",
   "execution_count": 40,
   "metadata": {},
   "outputs": [
    {
     "data": {
      "text/plain": [
       "array([[ 0.39166132,  0.3576718 ],\n",
       "       [ 0.35663876,  0.38038522],\n",
       "       [ 0.43970549,  0.32651329],\n",
       "       [ 0.40468293,  0.34922671]], dtype=float32)"
      ]
     },
     "execution_count": 40,
     "metadata": {},
     "output_type": "execute_result"
    }
   ],
   "source": [
    "# see the hidden layer\n",
    "sess.run(act_h1,feed_dict={x:X})"
   ]
  }
 ],
 "metadata": {
  "kernelspec": {
   "display_name": "Python 3",
   "language": "python",
   "name": "python3"
  },
  "language_info": {
   "codemirror_mode": {
    "name": "ipython",
    "version": 3
   },
   "file_extension": ".py",
   "mimetype": "text/x-python",
   "name": "python",
   "nbconvert_exporter": "python",
   "pygments_lexer": "ipython3",
   "version": "3.5.2"
  }
 },
 "nbformat": 4,
 "nbformat_minor": 2
}
